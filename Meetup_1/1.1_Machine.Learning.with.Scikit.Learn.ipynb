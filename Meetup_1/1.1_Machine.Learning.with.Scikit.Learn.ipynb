{
 "cells": [
  {
   "cell_type": "code",
   "execution_count": null,
   "metadata": {
    "ExecuteTime": {
     "end_time": "2018-12-22T17:43:11.498037Z",
     "start_time": "2018-12-22T17:43:10.559019Z"
    },
    "colab": {},
    "colab_type": "code",
    "id": "4KApnKYfqIIQ"
   },
   "outputs": [],
   "source": [
    "import numpy as np\n",
    "import pandas as pd\n",
    "import matplotlib.pyplot as plt\n",
    "%matplotlib inline\n",
    "from sklearn.metrics import mean_squared_error, confusion_matrix, accuracy_score"
   ]
  },
  {
   "cell_type": "markdown",
   "metadata": {
    "colab_type": "text",
    "id": "OTRB8m8HVZTe"
   },
   "source": [
    "## Linear Regression (Single-Variate)\n",
    "\n",
    "#### Dataset\n",
    "[Pizza Franchise Dataset](https://raw.githubusercontent.com/ss-is-master-chief/DSoAI-materials/master/Meetup_1/datasets/Pizza.Franchise.csv?token=AY2l8zBi0IgcG8KLM5MpnTwYYZdIQvIZks5cHdxLwA%3D%3D)\n",
    "#### Features\n",
    "* X = annual franchise fee ($1000)\n",
    "\n",
    "* Y = start up cost ($1000)"
   ]
  },
  {
   "cell_type": "code",
   "execution_count": null,
   "metadata": {
    "ExecuteTime": {
     "end_time": "2018-12-22T17:43:11.523906Z",
     "start_time": "2018-12-22T17:43:11.500614Z"
    },
    "colab": {
     "base_uri": "https://localhost:8080/",
     "height": 204
    },
    "colab_type": "code",
    "id": "UUc2Aov_VZTf",
    "outputId": "facaee70-788a-48d6-d864-769c8e40ac3d"
   },
   "outputs": [],
   "source": [
    "pizza_df = pd.read_csv(\"datasets/Pizza.Franchise.csv\")\n",
    "pizza_df.head()"
   ]
  },
  {
   "cell_type": "code",
   "execution_count": null,
   "metadata": {
    "ExecuteTime": {
     "end_time": "2018-12-22T17:43:11.939148Z",
     "start_time": "2018-12-22T17:43:11.527548Z"
    },
    "colab": {
     "base_uri": "https://localhost:8080/",
     "height": 514
    },
    "colab_type": "code",
    "id": "egcvMbJrVZTl",
    "outputId": "a022428f-91ff-4276-ad68-e359573dfc83"
   },
   "outputs": [],
   "source": [
    "from sklearn.linear_model import LinearRegression\n",
    "\n",
    "x = np.array(pizza_df['X'])\n",
    "x = x.reshape([len(x), 1])\n",
    "y = np.array(pizza_df['Y'])\n",
    "y = y.reshape([len(y), 1])\n",
    "\n",
    "linear_r = LinearRegression()\n",
    "linear_r.fit(x, y)\n",
    "\n",
    "prediction = linear_r.predict(x)\n",
    "\n",
    "plt.figure(figsize=(10,8))\n",
    "plt.scatter(x, y, color = \"c\", marker = \"D\")\n",
    "plt.plot(x, prediction, color = \"m\")\n",
    "plt.xlabel(\"annual franchise fee ($1000)\")\n",
    "plt.ylabel(\"start up cost ($1000)\")"
   ]
  },
  {
   "cell_type": "markdown",
   "metadata": {
    "colab_type": "text",
    "id": "4HCozIP7VZTo"
   },
   "source": [
    "## Logistic Regression\n",
    "\n",
    "#### Dataset\n",
    "[Iris Dataset](https://archive.ics.uci.edu/ml/machine-learning-databases/iris/iris.data)\n",
    "\n",
    "#### Features\n",
    "* sepal length in cm\n",
    "* sepal width in cm\n",
    "* petal length in cm\n",
    "* petal width in cm\n",
    "* class: \n",
    "    * Iris Setosa\n",
    "    * Iris Versicolour\n",
    "    * Iris Virginica"
   ]
  },
  {
   "cell_type": "code",
   "execution_count": null,
   "metadata": {
    "ExecuteTime": {
     "end_time": "2018-12-22T17:43:13.196674Z",
     "start_time": "2018-12-22T17:43:11.942729Z"
    },
    "colab": {
     "base_uri": "https://localhost:8080/",
     "height": 204
    },
    "colab_type": "code",
    "id": "KpPM9a5sVZTp",
    "outputId": "5b1ec7fe-afe8-429e-8b4e-bb05770e8ce4"
   },
   "outputs": [],
   "source": [
    "iris_df = pd.read_csv(\"https://archive.ics.uci.edu/ml/machine-learning-databases/iris/iris.data\", \n",
    "                      names = ['sepal_l', 'sepal_w', 'petal_l', 'petal_w', 'class'])\n",
    "iris_df.head()"
   ]
  },
  {
   "cell_type": "code",
   "execution_count": null,
   "metadata": {
    "ExecuteTime": {
     "end_time": "2018-12-22T17:43:13.211126Z",
     "start_time": "2018-12-22T17:43:13.201840Z"
    },
    "colab": {
     "base_uri": "https://localhost:8080/",
     "height": 34
    },
    "colab_type": "code",
    "id": "kcqCDEEkVZTt",
    "outputId": "48be3107-caf4-493a-a849-31f2fb0140b3"
   },
   "outputs": [],
   "source": [
    "iris_df['class'].unique()"
   ]
  },
  {
   "cell_type": "code",
   "execution_count": null,
   "metadata": {
    "ExecuteTime": {
     "end_time": "2018-12-22T17:43:13.229629Z",
     "start_time": "2018-12-22T17:43:13.213666Z"
    },
    "colab": {
     "base_uri": "https://localhost:8080/",
     "height": 204
    },
    "colab_type": "code",
    "id": "zLKwK5xQVZTv",
    "outputId": "f0ee7c24-6308-410d-cab8-3dfe1f50eabb"
   },
   "outputs": [],
   "source": [
    "classes = {\n",
    "    'Iris-setosa': 0,\n",
    "    'Iris-versicolor': 1,\n",
    "    'Iris-virginica': 2\n",
    "}\n",
    "\n",
    "iris_df = iris_df.replace({'class': classes})\n",
    "iris_df.head()"
   ]
  },
  {
   "cell_type": "code",
   "execution_count": null,
   "metadata": {
    "ExecuteTime": {
     "end_time": "2018-12-22T17:43:13.528932Z",
     "start_time": "2018-12-22T17:43:13.232575Z"
    },
    "colab": {
     "base_uri": "https://localhost:8080/",
     "height": 617
    },
    "colab_type": "code",
    "id": "gDIMLlgvVZTz",
    "outputId": "7caedb2b-e49c-477c-aad7-5ee1f5bbf5ac"
   },
   "outputs": [],
   "source": [
    "from sklearn.linear_model import LogisticRegression\n",
    "\n",
    "X = iris_df.iloc[:, :4]\n",
    "Y = iris_df.iloc[:, 4]\n",
    "X = np.array(X)\n",
    "Y = np.array(Y)\n",
    "\n",
    "logistic_r = LogisticRegression()\n",
    "logistic_r.fit(X, Y)\n",
    "\n",
    "iris_class_pred = logistic_r.predict(X)\n",
    "\n",
    "class_1 = np.where(iris_class_pred == 0)\n",
    "class_2 = np.where(iris_class_pred == 1)\n",
    "class_3 = np.where(iris_class_pred == 2)\n",
    "\n",
    "plt.figure(figsize=(10,8))\n",
    "plt.title(\"Logistic Regression\")\n",
    "plt.scatter(X[class_1, 0], X[class_1, 1])\n",
    "plt.scatter(X[class_2, 0], X[class_2, 1])\n",
    "plt.scatter(X[class_3, 0], X[class_3, 1])\n",
    "plt.xlabel(\"Sepal Length (cm)\")\n",
    "plt.ylabel(\"Sepal Width (cm)\")\n",
    "plt.legend(['Iris-setosa', 'Iris-versicolor', 'Iris-virginica'])"
   ]
  },
  {
   "cell_type": "markdown",
   "metadata": {
    "colab_type": "text",
    "id": "4n8KKz03VZT2"
   },
   "source": [
    "## K Nearest Neigbours"
   ]
  },
  {
   "cell_type": "code",
   "execution_count": null,
   "metadata": {
    "ExecuteTime": {
     "end_time": "2018-12-22T17:43:13.835020Z",
     "start_time": "2018-12-22T17:43:13.532727Z"
    },
    "colab": {
     "base_uri": "https://localhost:8080/",
     "height": 529
    },
    "colab_type": "code",
    "id": "8Wj_VPhYVZT3",
    "outputId": "7460e44f-be57-4d42-8edb-11ae3c5398cb"
   },
   "outputs": [],
   "source": [
    "from sklearn.neighbors import KNeighborsClassifier\n",
    "\n",
    "knn = KNeighborsClassifier(n_neighbors = 3)\n",
    "knn.fit(X, Y)\n",
    "\n",
    "knn_prediction = knn.predict(X)\n",
    "\n",
    "knn_class_1 = np.where(knn_prediction == 0)\n",
    "knn_class_2 = np.where(knn_prediction == 1)\n",
    "knn_class_3 = np.where(knn_prediction == 2)\n",
    "\n",
    "plt.figure(figsize=(10,8))\n",
    "plt.title(\"K Nearest Neighbors\")\n",
    "plt.scatter(X[knn_class_1, 0], X[knn_class_1, 1])\n",
    "plt.scatter(X[knn_class_2, 0], X[knn_class_2, 1])\n",
    "plt.scatter(X[knn_class_3, 0], X[knn_class_3, 1])\n",
    "plt.xlabel(\"Sepal Length (cm)\")\n",
    "plt.ylabel(\"Sepal Width (cm)\")\n",
    "plt.legend(['Iris-setosa', 'Iris-versicolor', 'Iris-virginica'])"
   ]
  },
  {
   "cell_type": "markdown",
   "metadata": {
    "colab_type": "text",
    "id": "4S-iB8umVZUB"
   },
   "source": [
    "## Decision Trees"
   ]
  },
  {
   "cell_type": "code",
   "execution_count": null,
   "metadata": {
    "ExecuteTime": {
     "end_time": "2018-12-22T17:43:15.398653Z",
     "start_time": "2018-12-22T17:43:13.839316Z"
    },
    "colab": {
     "base_uri": "https://localhost:8080/",
     "height": 567
    },
    "colab_type": "code",
    "id": "EYcrl3Q0VZUB",
    "outputId": "09de8c3c-008f-48ec-96e5-48de6f4d4ef5"
   },
   "outputs": [],
   "source": [
    "from sklearn.tree import DecisionTreeClassifier\n",
    "from sklearn.tree import export_graphviz\n",
    "from sklearn.externals.six import StringIO  \n",
    "\n",
    "from IPython.display import Image  \n",
    "import pydotplus\n",
    "\n",
    "tree = DecisionTreeClassifier()\n",
    "tree.fit(X, Y)\n",
    "\n",
    "dot_data = StringIO()\n",
    "export_graphviz(tree, out_file=dot_data,  \n",
    "                filled=True, rounded=True,\n",
    "                special_characters=True)\n",
    "graph = pydotplus.graph_from_dot_data(dot_data.getvalue())  \n",
    "Image(graph.create_png(), width=900, height=550)"
   ]
  },
  {
   "cell_type": "code",
   "execution_count": null,
   "metadata": {
    "ExecuteTime": {
     "end_time": "2018-12-22T17:43:15.826098Z",
     "start_time": "2018-12-22T17:43:15.402965Z"
    },
    "colab": {
     "base_uri": "https://localhost:8080/",
     "height": 529
    },
    "colab_type": "code",
    "id": "jaYFoDC6egdl",
    "outputId": "97f4b597-81ba-4813-e1d9-146f9ef07679"
   },
   "outputs": [],
   "source": [
    "tree_prediction = tree.predict(X)\n",
    "\n",
    "tree_class_1 = np.where(tree_prediction == 0)\n",
    "tree_class_2 = np.where(tree_prediction == 1)\n",
    "tree_class_3 = np.where(tree_prediction == 2)\n",
    "\n",
    "plt.figure(figsize=(10,8))\n",
    "plt.title(\"Decision Trees\")\n",
    "plt.scatter(X[tree_class_1, 0], X[tree_class_1, 1])\n",
    "plt.scatter(X[tree_class_2, 0], X[tree_class_2, 1])\n",
    "plt.scatter(X[tree_class_3, 0], X[tree_class_3, 1])\n",
    "plt.xlabel(\"Sepal Length (cm)\")\n",
    "plt.ylabel(\"Sepal Width (cm)\")\n",
    "plt.legend(['Iris-setosa', 'Iris-versicolor', 'Iris-virginica'])"
   ]
  },
  {
   "cell_type": "markdown",
   "metadata": {
    "colab_type": "text",
    "id": "kInLWBVZYQAM"
   },
   "source": [
    "## Random Forests"
   ]
  },
  {
   "cell_type": "code",
   "execution_count": null,
   "metadata": {
    "ExecuteTime": {
     "end_time": "2018-12-22T17:43:16.363396Z",
     "start_time": "2018-12-22T17:43:15.832045Z"
    },
    "colab": {
     "base_uri": "https://localhost:8080/",
     "height": 529
    },
    "colab_type": "code",
    "id": "Zp7PE0HVYKZf",
    "outputId": "43c69f67-edda-48d8-b976-5ed78d8556e6"
   },
   "outputs": [],
   "source": [
    "from sklearn.ensemble import RandomForestClassifier\n",
    "\n",
    "random_f = RandomForestClassifier(n_estimators = 100, max_depth = 3)\n",
    "random_f.fit(X, Y)\n",
    "\n",
    "rf_prediction = random_f.predict(X)\n",
    "\n",
    "rf_class_1 = np.where(rf_prediction == 0)\n",
    "rf_class_2 = np.where(rf_prediction == 1)\n",
    "rf_class_3 = np.where(rf_prediction == 2)\n",
    "\n",
    "plt.figure(figsize=(10,8))\n",
    "plt.title(\"Random Forests Classification\")\n",
    "plt.scatter(X[rf_class_1, 0], X[rf_class_1, 1])\n",
    "plt.scatter(X[rf_class_2, 0], X[rf_class_2, 1])\n",
    "plt.scatter(X[rf_class_3, 0], X[rf_class_3, 1])\n",
    "plt.xlabel(\"Sepal Length (cm)\")\n",
    "plt.ylabel(\"Sepal Width (cm)\")\n",
    "plt.legend(['Iris-setosa', 'Iris-versicolor', 'Iris-virginica'])"
   ]
  },
  {
   "cell_type": "markdown",
   "metadata": {
    "colab_type": "text",
    "id": "puPg8N-HVZT-"
   },
   "source": [
    "## Support Vector Machines (SVMs)"
   ]
  },
  {
   "cell_type": "code",
   "execution_count": null,
   "metadata": {
    "ExecuteTime": {
     "end_time": "2018-12-22T17:43:16.645698Z",
     "start_time": "2018-12-22T17:43:16.367453Z"
    },
    "colab": {
     "base_uri": "https://localhost:8080/",
     "height": 529
    },
    "colab_type": "code",
    "id": "qyl2MFsJVZT_",
    "outputId": "ed952d3a-e425-4272-c4a8-ac73a488678d"
   },
   "outputs": [],
   "source": [
    "from sklearn import svm\n",
    "\n",
    "supvec = svm.SVC(gamma='scale')\n",
    "supvec.fit(X, Y)\n",
    "\n",
    "svm_predict = supvec.predict(X)\n",
    "\n",
    "svm_class_1 = np.where(rf_prediction == 0)\n",
    "svm_class_2 = np.where(rf_prediction == 1)\n",
    "svm_class_3 = np.where(rf_prediction == 2)\n",
    "\n",
    "plt.figure(figsize=(10,8))\n",
    "plt.title(\"Support Vector Machine\")\n",
    "plt.scatter(X[svm_class_1, 0], X[svm_class_1, 1])\n",
    "plt.scatter(X[svm_class_2, 0], X[svm_class_2, 1])\n",
    "plt.scatter(X[svm_class_3, 0], X[svm_class_3, 1])\n",
    "plt.xlabel(\"Sepal Length (cm)\")\n",
    "plt.ylabel(\"Sepal Width (cm)\")\n",
    "plt.legend(['Iris-setosa', 'Iris-versicolor', 'Iris-virginica'])"
   ]
  },
  {
   "cell_type": "markdown",
   "metadata": {
    "colab_type": "text",
    "id": "vvdqpQDWVZT6"
   },
   "source": [
    "## Comparing\n",
    "\n",
    "1.   Logistic Regression\n",
    "2.   K Nearest Neighbors\n",
    "3.   Decision Trees\n",
    "4.   Random Forests\n",
    "5.   Support Vector Machines\n",
    "\n"
   ]
  },
  {
   "cell_type": "code",
   "execution_count": null,
   "metadata": {
    "ExecuteTime": {
     "end_time": "2018-12-22T17:43:16.653847Z",
     "start_time": "2018-12-22T17:43:10.617Z"
    },
    "colab": {
     "base_uri": "https://localhost:8080/",
     "height": 1266
    },
    "colab_type": "code",
    "id": "Ozk3Jwr3VZT7",
    "outputId": "48f3532b-3693-4e21-b291-728ac27a83ac"
   },
   "outputs": [],
   "source": [
    "print(\"Accuracy Scores:\")\n",
    "print(\"> Logistic Regression: {0:.2f}%\".format(logistic_r.score(X, Y)*100))\n",
    "print(\"> KNN:                 {0:.2f}%\".format(knn.score(X, Y)*100))\n",
    "print(\"> Decision Tree:       {0:.2f}%\".format(tree.score(X, Y)*100))\n",
    "print(\"> Random Forests:      {0:.2f}%\".format(random_f.score(X, Y)*100))\n",
    "print(\"> SVM:                 {0:.2f}%\".format(supvec.score(X, Y)*100))\n",
    "\n",
    "plt.figure(figsize=(19,20))\n",
    "\n",
    "plt.subplot(3,2,1)\n",
    "\n",
    "plt.title(\"Logistic Regression\")\n",
    "plt.scatter(X[class_1, 0], X[class_1, 1])\n",
    "plt.scatter(X[class_2, 0], X[class_2, 1])\n",
    "plt.scatter(X[class_3, 0], X[class_3, 1])\n",
    "plt.xlabel(\"Sepal Length (cm)\")\n",
    "plt.ylabel(\"Sepal Width (cm)\")\n",
    "plt.legend(['Iris-setosa', 'Iris-versicolor', 'Iris-virginica'])\n",
    "\n",
    "plt.subplot(3,2,2)\n",
    "\n",
    "plt.title(\"K Nearest Neighbors\")\n",
    "plt.scatter(X[knn_class_1, 0], X[knn_class_1, 1])\n",
    "plt.scatter(X[knn_class_2, 0], X[knn_class_2, 1])\n",
    "plt.scatter(X[knn_class_3, 0], X[knn_class_3, 1])\n",
    "plt.xlabel(\"Sepal Length (cm)\")\n",
    "plt.ylabel(\"Sepal Width (cm)\")\n",
    "plt.legend(['Iris-setosa', 'Iris-versicolor', 'Iris-virginica'])\n",
    "\n",
    "plt.subplot(3,2,3)\n",
    "\n",
    "plt.title(\"Decision Trees\")\n",
    "plt.scatter(X[tree_class_1, 0], X[tree_class_1, 1])\n",
    "plt.scatter(X[tree_class_2, 0], X[tree_class_2, 1])\n",
    "plt.scatter(X[tree_class_3, 0], X[tree_class_3, 1])\n",
    "plt.xlabel(\"Sepal Length (cm)\")\n",
    "plt.ylabel(\"Sepal Width (cm)\")\n",
    "plt.legend(['Iris-setosa', 'Iris-versicolor', 'Iris-virginica'])\n",
    "\n",
    "plt.subplot(3,2,4)\n",
    "\n",
    "plt.title(\"Random Forests Classification\")\n",
    "plt.scatter(X[rf_class_1, 0], X[rf_class_1, 1])\n",
    "plt.scatter(X[rf_class_2, 0], X[rf_class_2, 1])\n",
    "plt.scatter(X[rf_class_3, 0], X[rf_class_3, 1])\n",
    "plt.xlabel(\"Sepal Length (cm)\")\n",
    "plt.ylabel(\"Sepal Width (cm)\")\n",
    "plt.legend(['Iris-setosa', 'Iris-versicolor', 'Iris-virginica'])\n",
    "\n",
    "plt.subplot(3,2,5)\n",
    "\n",
    "plt.title(\"Support Vector Machine\")\n",
    "plt.scatter(X[svm_class_1, 0], X[svm_class_1, 1])\n",
    "plt.scatter(X[svm_class_2, 0], X[svm_class_2, 1])\n",
    "plt.scatter(X[svm_class_3, 0], X[svm_class_3, 1])\n",
    "plt.xlabel(\"Sepal Length (cm)\")\n",
    "plt.ylabel(\"Sepal Width (cm)\")\n",
    "plt.legend(['Iris-setosa', 'Iris-versicolor', 'Iris-virginica'])\n",
    "\n",
    "plt.show()"
   ]
  }
 ],
 "metadata": {
  "colab": {
   "name": "1.1_Machine.Learning.with.Scikit.Learn.ipynb",
   "provenance": [],
   "version": "0.3.2"
  },
  "kernelspec": {
   "display_name": "Python 3",
   "language": "python",
   "name": "python3"
  },
  "language_info": {
   "codemirror_mode": {
    "name": "ipython",
    "version": 3
   },
   "file_extension": ".py",
   "mimetype": "text/x-python",
   "name": "python",
   "nbconvert_exporter": "python",
   "pygments_lexer": "ipython3",
   "version": "3.6.7"
  },
  "toc": {
   "base_numbering": 1,
   "nav_menu": {},
   "number_sections": true,
   "sideBar": true,
   "skip_h1_title": false,
   "title_cell": "Table of Contents",
   "title_sidebar": "Contents",
   "toc_cell": false,
   "toc_position": {},
   "toc_section_display": true,
   "toc_window_display": false
  },
  "varInspector": {
   "cols": {
    "lenName": 16,
    "lenType": 16,
    "lenVar": 40
   },
   "kernels_config": {
    "python": {
     "delete_cmd_postfix": "",
     "delete_cmd_prefix": "del ",
     "library": "var_list.py",
     "varRefreshCmd": "print(var_dic_list())"
    },
    "r": {
     "delete_cmd_postfix": ") ",
     "delete_cmd_prefix": "rm(",
     "library": "var_list.r",
     "varRefreshCmd": "cat(var_dic_list()) "
    }
   },
   "types_to_exclude": [
    "module",
    "function",
    "builtin_function_or_method",
    "instance",
    "_Feature"
   ],
   "window_display": false
  }
 },
 "nbformat": 4,
 "nbformat_minor": 1
}
