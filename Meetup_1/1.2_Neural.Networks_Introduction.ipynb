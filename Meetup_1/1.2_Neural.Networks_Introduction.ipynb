{
 "cells": [
  {
   "cell_type": "markdown",
   "metadata": {
    "colab_type": "text",
    "id": "6SwuM6dQntfg"
   },
   "source": [
    "## Mathematical model of a Neuron\n",
    "<div>\n",
    "<div width=\"50%\" align=\"left\">\n",
    "<img src=\"https://upload.wikimedia.org/wikipedia/commons/thumb/b/b5/Neuron.svg/600px-Neuron.svg.png\" width=\"40%\">\n",
    "</div>\n",
    "<div width=\"50%\" align=\"right\">\n",
    "<img src=\"https://i.stack.imgur.com/gzrsx.png\" width=\"40%\">\n",
    "</div>\n",
    "</div>"
   ]
  },
  {
   "cell_type": "markdown",
   "metadata": {
    "colab_type": "text",
    "id": "nCldL_Oontfh"
   },
   "source": [
    "In the following example of Neural Networks, we will train a `Multi-Layer Perceptron` model to classify and predict the type of flowers from the Iris Dataset. Since we have only one dataset, we will train the model on 80% of the data, and test for accuracy on the remaining 20%.\n",
    "\n",
    "We have to make sure that a model is trained on data which belong to the same distribution as that of the test data. This is because if we train on a sample from Population 1 and test the model on a sample from Population 2, we might end up with a `high variance problem`.\n",
    "\n",
    "* `MLPClassifier` is the Python object to the Nueral Network we are going to train\n",
    "* `train_test_split` divided the given dataset as per the specified `test_size`. Here, 0.2 means 20%"
   ]
  },
  {
   "cell_type": "code",
   "execution_count": 56,
   "metadata": {
    "colab": {
     "base_uri": "https://localhost:8080/",
     "height": 227
    },
    "colab_type": "code",
    "id": "p8CEPhPeo7D0",
    "outputId": "c400e86d-ff8c-42a9-82ba-7c3062e155ee"
   },
   "outputs": [
    {
     "name": "stdout",
     "output_type": "stream",
     "text": [
      "Requirement already satisfied: numpy in /usr/local/lib/python3.6/dist-packages (1.14.6)\n",
      "Requirement already satisfied: pandas in /usr/local/lib/python3.6/dist-packages (0.22.0)\n",
      "Requirement already satisfied: python-dateutil>=2 in /usr/local/lib/python3.6/dist-packages (from pandas) (2.5.3)\n",
      "Requirement already satisfied: pytz>=2011k in /usr/local/lib/python3.6/dist-packages (from pandas) (2018.7)\n",
      "Requirement already satisfied: numpy>=1.9.0 in /usr/local/lib/python3.6/dist-packages (from pandas) (1.14.6)\n",
      "Requirement already satisfied: six>=1.5 in /usr/local/lib/python3.6/dist-packages (from python-dateutil>=2->pandas) (1.11.0)\n",
      "Requirement already satisfied: seaborn in /usr/local/lib/python3.6/dist-packages (0.7.1)\n",
      "Requirement already satisfied: sklearn in /usr/local/lib/python3.6/dist-packages (0.0)\n",
      "Requirement already satisfied: scikit-learn in /usr/local/lib/python3.6/dist-packages (from sklearn) (0.20.1)\n",
      "Requirement already satisfied: numpy>=1.8.2 in /usr/local/lib/python3.6/dist-packages (from scikit-learn->sklearn) (1.14.6)\n",
      "Requirement already satisfied: scipy>=0.13.3 in /usr/local/lib/python3.6/dist-packages (from scikit-learn->sklearn) (1.1.0)\n"
     ]
    }
   ],
   "source": [
    "# installing packages\n",
    "!pip install numpy\n",
    "!pip install pandas\n",
    "!pip install seaborn\n",
    "!pip install sklearn"
   ]
  },
  {
   "cell_type": "code",
   "execution_count": 0,
   "metadata": {
    "ExecuteTime": {
     "end_time": "2018-12-21T06:51:09.167683Z",
     "start_time": "2018-12-21T06:51:08.850639Z"
    },
    "colab": {},
    "colab_type": "code",
    "id": "HtCdu7jnntfi"
   },
   "outputs": [],
   "source": [
    "import pandas as pd\n",
    "import numpy as np\n",
    "import seaborn as sns\n",
    "from sklearn.neural_network import MLPClassifier\n",
    "from sklearn.model_selection import train_test_split"
   ]
  },
  {
   "cell_type": "markdown",
   "metadata": {
    "colab_type": "text",
    "id": "xIKDenixntfl"
   },
   "source": [
    "<img src=\"https://cdn-images-1.medium.com/max/1600/0*7H_gF1KnslexnJ3s\" width=\"80%\">"
   ]
  },
  {
   "cell_type": "markdown",
   "metadata": {
    "colab_type": "text",
    "id": "LferrJnhntfn"
   },
   "source": [
    "## Dataset\n",
    "\n",
    "[Iris Data Set @ UCI Machine Learning Repository](https://archive.ics.uci.edu/ml/datasets/iris)\n",
    "\n",
    "#### Features:\n",
    "* sepal length in cm \n",
    "* sepal width in cm \n",
    "* petal length in cm \n",
    "* petal width in cm \n",
    "* class: \n",
    "    * Iris Setosa \n",
    "    * Iris Versicolour \n",
    "    * Iris Virginica\n",
    "    \n",
    "#### Objective:\n",
    "Supervise a Machine Learning Model to trace patterns between the four attributes and classify them into clusters using a [Multi Layer Perceptron](https://skymind.ai/wiki/multilayer-perceptron) (Feed Forward Neural Network)"
   ]
  },
  {
   "cell_type": "code",
   "execution_count": 58,
   "metadata": {
    "ExecuteTime": {
     "end_time": "2018-12-21T07:07:40.457199Z",
     "start_time": "2018-12-21T07:07:38.135454Z"
    },
    "colab": {
     "base_uri": "https://localhost:8080/",
     "height": 198
    },
    "colab_type": "code",
    "id": "AZvVEy_bntfn",
    "outputId": "8da54b15-7b58-4d97-9c4d-3f94a06b0545"
   },
   "outputs": [
    {
     "data": {
      "text/html": [
       "<div>\n",
       "<style scoped>\n",
       "    .dataframe tbody tr th:only-of-type {\n",
       "        vertical-align: middle;\n",
       "    }\n",
       "\n",
       "    .dataframe tbody tr th {\n",
       "        vertical-align: top;\n",
       "    }\n",
       "\n",
       "    .dataframe thead th {\n",
       "        text-align: right;\n",
       "    }\n",
       "</style>\n",
       "<table border=\"1\" class=\"dataframe\">\n",
       "  <thead>\n",
       "    <tr style=\"text-align: right;\">\n",
       "      <th></th>\n",
       "      <th>sepal_l</th>\n",
       "      <th>sepal_w</th>\n",
       "      <th>petal_l</th>\n",
       "      <th>petal_w</th>\n",
       "      <th>class</th>\n",
       "    </tr>\n",
       "  </thead>\n",
       "  <tbody>\n",
       "    <tr>\n",
       "      <th>0</th>\n",
       "      <td>5.1</td>\n",
       "      <td>3.5</td>\n",
       "      <td>1.4</td>\n",
       "      <td>0.2</td>\n",
       "      <td>Iris-setosa</td>\n",
       "    </tr>\n",
       "    <tr>\n",
       "      <th>1</th>\n",
       "      <td>4.9</td>\n",
       "      <td>3.0</td>\n",
       "      <td>1.4</td>\n",
       "      <td>0.2</td>\n",
       "      <td>Iris-setosa</td>\n",
       "    </tr>\n",
       "    <tr>\n",
       "      <th>2</th>\n",
       "      <td>4.7</td>\n",
       "      <td>3.2</td>\n",
       "      <td>1.3</td>\n",
       "      <td>0.2</td>\n",
       "      <td>Iris-setosa</td>\n",
       "    </tr>\n",
       "    <tr>\n",
       "      <th>3</th>\n",
       "      <td>4.6</td>\n",
       "      <td>3.1</td>\n",
       "      <td>1.5</td>\n",
       "      <td>0.2</td>\n",
       "      <td>Iris-setosa</td>\n",
       "    </tr>\n",
       "    <tr>\n",
       "      <th>4</th>\n",
       "      <td>5.0</td>\n",
       "      <td>3.6</td>\n",
       "      <td>1.4</td>\n",
       "      <td>0.2</td>\n",
       "      <td>Iris-setosa</td>\n",
       "    </tr>\n",
       "  </tbody>\n",
       "</table>\n",
       "</div>"
      ],
      "text/plain": [
       "   sepal_l  sepal_w  petal_l  petal_w        class\n",
       "0      5.1      3.5      1.4      0.2  Iris-setosa\n",
       "1      4.9      3.0      1.4      0.2  Iris-setosa\n",
       "2      4.7      3.2      1.3      0.2  Iris-setosa\n",
       "3      4.6      3.1      1.5      0.2  Iris-setosa\n",
       "4      5.0      3.6      1.4      0.2  Iris-setosa"
      ]
     },
     "execution_count": 58,
     "metadata": {
      "tags": []
     },
     "output_type": "execute_result"
    }
   ],
   "source": [
    "# reading data into a dataframe\n",
    "# separating data by \",\"\n",
    "# giving names to columns\n",
    "df = pd.read_csv(\"https://archive.ics.uci.edu/ml/machine-learning-databases/iris/iris.data\", \n",
    "                 sep = \",\", \n",
    "                 names = ['sepal_l', \n",
    "                          'sepal_w', \n",
    "                          'petal_l', \n",
    "                          'petal_w', \n",
    "                          'class'])\n",
    "\n",
    "# display the top 5 observations from the dataframe\n",
    "df.head()"
   ]
  },
  {
   "cell_type": "code",
   "execution_count": 59,
   "metadata": {
    "ExecuteTime": {
     "end_time": "2018-12-21T06:52:06.661226Z",
     "start_time": "2018-12-21T06:52:03.557875Z"
    },
    "colab": {
     "base_uri": "https://localhost:8080/",
     "height": 738
    },
    "colab_type": "code",
    "id": "zorC1uWRntfv",
    "outputId": "81aabcfd-f17a-4316-b009-462f5fb95088"
   },
   "outputs": [
    {
     "data": {
      "text/plain": [
       "<seaborn.axisgrid.PairGrid at 0x7fc77b2a9518>"
      ]
     },
     "execution_count": 59,
     "metadata": {
      "tags": []
     },
     "output_type": "execute_result"
    },
    {
     "data": {
      "image/png": "[encoded data removed]",
      "text/plain": [
       "<matplotlib.figure.Figure at 0x7fc77d8294e0>"
      ]
     },
     "metadata": {
      "tags": []
     },
     "output_type": "display_data"
    }
   ],
   "source": [
    "sns.pairplot(data = df, \n",
    "             vars = ('sepal_l',\n",
    "                     'sepal_w',\n",
    "                     'petal_l',\n",
    "                     'petal_w'),\n",
    "             hue = 'class')"
   ]
  },
  {
   "cell_type": "markdown",
   "metadata": {
    "colab_type": "text",
    "id": "Z09apXRkntf1"
   },
   "source": [
    "The three classes of Iris available in the dataset are as follows"
   ]
  },
  {
   "cell_type": "code",
   "execution_count": 60,
   "metadata": {
    "colab": {
     "base_uri": "https://localhost:8080/",
     "height": 35
    },
    "colab_type": "code",
    "id": "nJu7BQRantf1",
    "outputId": "e249075c-289b-487d-bbc2-ebb7f9777379"
   },
   "outputs": [
    {
     "data": {
      "text/plain": [
       "array(['Iris-setosa', 'Iris-versicolor', 'Iris-virginica'], dtype=object)"
      ]
     },
     "execution_count": 60,
     "metadata": {
      "tags": []
     },
     "output_type": "execute_result"
    }
   ],
   "source": [
    "df['class'].unique()"
   ]
  },
  {
   "cell_type": "markdown",
   "metadata": {
    "colab_type": "text",
    "id": "Q0UCgaBKntf5"
   },
   "source": [
    "Since we are trying to carry out a classification task, it would be easier for us to map the classes to a unique integer ID. Here, we have created a dictionary and used the `replace` function of Pandas."
   ]
  },
  {
   "cell_type": "code",
   "execution_count": 61,
   "metadata": {
    "colab": {
     "base_uri": "https://localhost:8080/",
     "height": 198
    },
    "colab_type": "code",
    "id": "WSgmI9-_ntf5",
    "outputId": "8fc32590-1f5b-4d45-ad26-89b6cfef270e"
   },
   "outputs": [
    {
     "data": {
      "text/html": [
       "<div>\n",
       "<style scoped>\n",
       "    .dataframe tbody tr th:only-of-type {\n",
       "        vertical-align: middle;\n",
       "    }\n",
       "\n",
       "    .dataframe tbody tr th {\n",
       "        vertical-align: top;\n",
       "    }\n",
       "\n",
       "    .dataframe thead th {\n",
       "        text-align: right;\n",
       "    }\n",
       "</style>\n",
       "<table border=\"1\" class=\"dataframe\">\n",
       "  <thead>\n",
       "    <tr style=\"text-align: right;\">\n",
       "      <th></th>\n",
       "      <th>sepal_l</th>\n",
       "      <th>sepal_w</th>\n",
       "      <th>petal_l</th>\n",
       "      <th>petal_w</th>\n",
       "      <th>class</th>\n",
       "    </tr>\n",
       "  </thead>\n",
       "  <tbody>\n",
       "    <tr>\n",
       "      <th>0</th>\n",
       "      <td>5.1</td>\n",
       "      <td>3.5</td>\n",
       "      <td>1.4</td>\n",
       "      <td>0.2</td>\n",
       "      <td>0</td>\n",
       "    </tr>\n",
       "    <tr>\n",
       "      <th>1</th>\n",
       "      <td>4.9</td>\n",
       "      <td>3.0</td>\n",
       "      <td>1.4</td>\n",
       "      <td>0.2</td>\n",
       "      <td>0</td>\n",
       "    </tr>\n",
       "    <tr>\n",
       "      <th>2</th>\n",
       "      <td>4.7</td>\n",
       "      <td>3.2</td>\n",
       "      <td>1.3</td>\n",
       "      <td>0.2</td>\n",
       "      <td>0</td>\n",
       "    </tr>\n",
       "    <tr>\n",
       "      <th>3</th>\n",
       "      <td>4.6</td>\n",
       "      <td>3.1</td>\n",
       "      <td>1.5</td>\n",
       "      <td>0.2</td>\n",
       "      <td>0</td>\n",
       "    </tr>\n",
       "    <tr>\n",
       "      <th>4</th>\n",
       "      <td>5.0</td>\n",
       "      <td>3.6</td>\n",
       "      <td>1.4</td>\n",
       "      <td>0.2</td>\n",
       "      <td>0</td>\n",
       "    </tr>\n",
       "  </tbody>\n",
       "</table>\n",
       "</div>"
      ],
      "text/plain": [
       "   sepal_l  sepal_w  petal_l  petal_w  class\n",
       "0      5.1      3.5      1.4      0.2      0\n",
       "1      4.9      3.0      1.4      0.2      0\n",
       "2      4.7      3.2      1.3      0.2      0\n",
       "3      4.6      3.1      1.5      0.2      0\n",
       "4      5.0      3.6      1.4      0.2      0"
      ]
     },
     "execution_count": 61,
     "metadata": {
      "tags": []
     },
     "output_type": "execute_result"
    }
   ],
   "source": [
    "# replacing \"String\" class names with \"Integer\" identifiers\n",
    "iris_class = {\n",
    "    'Iris-setosa' : 0,\n",
    "    'Iris-versicolor' : 1,\n",
    "    'Iris-virginica' : 2\n",
    "}\n",
    "\n",
    "df= df.replace({\"class\": iris_class})\n",
    "df.head()"
   ]
  },
  {
   "cell_type": "markdown",
   "metadata": {
    "colab_type": "text",
    "id": "YXGLklv6ntf8"
   },
   "source": [
    "## Dividing the dataset in a Train:Test ratio of 80:20\n",
    "<img src=\"https://cdn-images-1.medium.com/max/2000/1*-8_kogvwmL1H6ooN1A1tsQ.png\" width=\"70%\">"
   ]
  },
  {
   "cell_type": "code",
   "execution_count": 0,
   "metadata": {
    "colab": {},
    "colab_type": "code",
    "id": "-qaKu-nUntf9"
   },
   "outputs": [],
   "source": [
    "df = df.apply(pd.to_numeric)\n",
    "df_array = df.values\n",
    "X_train, X_test, y_train, y_test = train_test_split(df_array[:,:4], df_array[:,4], test_size=0.2)"
   ]
  },
  {
   "cell_type": "code",
   "execution_count": 63,
   "metadata": {
    "colab": {
     "base_uri": "https://localhost:8080/",
     "height": 86
    },
    "colab_type": "code",
    "id": "oBB8po83ntf_",
    "outputId": "d825fd95-5262-4545-8169-4e3fe8623aae"
   },
   "outputs": [
    {
     "name": "stdout",
     "output_type": "stream",
     "text": [
      "X_train has 120 observations with 4 features\n",
      "y_train has 120 class values\n",
      "X_test has 30 observations with 4 features\n",
      "y_test has 30 class values\n"
     ]
    }
   ],
   "source": [
    "print(\"X_train has {0} observations with {1} features\".format(X_train.shape[0], X_train.shape[1]))\n",
    "print(\"y_train has {0} class values\".format(y_train.shape[0]))\n",
    "print(\"X_test has {0} observations with {1} features\".format(X_test.shape[0], X_test.shape[1]))\n",
    "print(\"y_test has {0} class values\".format(y_test.shape[0]))"
   ]
  },
  {
   "cell_type": "markdown",
   "metadata": {
    "colab_type": "text",
    "id": "JOid2wKjntgC"
   },
   "source": [
    "## Building the Neural Network has never been easier!!\n",
    "<img src=\"https://www.neuraldesigner.com/images/learning/iris_flowers_neural_network_graph.png\">"
   ]
  },
  {
   "cell_type": "markdown",
   "metadata": {
    "colab_type": "text",
    "id": "mcL5m-bRp2nG"
   },
   "source": [
    "## Hidden Layers\n",
    "* hidden_layer_sizes = (100,) means 100 nodes in 1 hidden layer\n",
    "* hidden_layer_sizes = (100, 100) means 100 nodes in 1st hidden layer & 100 nodes in 2nd hidden layer\n",
    "* hidden_layer_sizes = (4, 5, 6) means 4 nodes in 1st hidden layer, 5 nodes in 2nd hidden layer and 6 nodes in 3rd hidden layer\n",
    "\n",
    "## Activation Functions\n",
    "* activation = \"identity\" : linear activation, f(x) = x\n",
    "* activation = \"logistic\" : sigmoid activation, f(x) = 1 / ( 1 + exp( - x ))\n",
    "* activation = \"tanh\" : hyperbolic activation, f(x) = tanh( x )\n",
    "* activation = \"relu\" : rectified linear unit activation, f(x) = max( 0 , x ) \n",
    "\n",
    "## Solver\n",
    "* solver = \"sgd\" : Stochastic Gradient Descent - Good for small datasets\n",
    "* solver = \"adam\" : Adam Optimisation - Good for large datasets\n",
    "* solver = \"lbfgs\" : Limited Memory Broyden–Fletcher–Goldfarb–Shanno - Good for small datasets"
   ]
  },
  {
   "cell_type": "code",
   "execution_count": 0,
   "metadata": {
    "ExecuteTime": {
     "end_time": "2018-12-21T06:56:34.811707Z",
     "start_time": "2018-12-21T06:56:34.806814Z"
    },
    "colab": {},
    "colab_type": "code",
    "id": "9O_cBXKontgE"
   },
   "outputs": [],
   "source": [
    "mlp = MLPClassifier(hidden_layer_sizes = (100,), \n",
    "                    activation = 'relu',\n",
    "                    solver = 'sgd', \n",
    "                    learning_rate_init = 0.01, \n",
    "                    max_iter = 400)"
   ]
  },
  {
   "cell_type": "code",
   "execution_count": 65,
   "metadata": {
    "ExecuteTime": {
     "end_time": "2018-12-21T06:56:35.905647Z",
     "start_time": "2018-12-21T06:56:35.734926Z"
    },
    "colab": {
     "base_uri": "https://localhost:8080/",
     "height": 35
    },
    "colab_type": "code",
    "id": "Drd3w_ZjntgG",
    "outputId": "18590882-7421-4cb8-d336-63793b8bbfe4"
   },
   "outputs": [
    {
     "name": "stdout",
     "output_type": "stream",
     "text": [
      "Accuracy: 97.0%\n"
     ]
    }
   ],
   "source": [
    "mlp.fit(X_train, y_train)\n",
    "print(\"Accuracy: {0}%\".format(round(mlp.score(X_test,y_test), 2) * 100))"
   ]
  },
  {
   "cell_type": "code",
   "execution_count": 66,
   "metadata": {
    "colab": {
     "base_uri": "https://localhost:8080/",
     "height": 198
    },
    "colab_type": "code",
    "id": "zqUOu6KUsQ2J",
    "outputId": "8b9403bd-bf72-41b9-ac41-92ce839ff54a"
   },
   "outputs": [
    {
     "data": {
      "text/html": [
       "<div>\n",
       "<style scoped>\n",
       "    .dataframe tbody tr th:only-of-type {\n",
       "        vertical-align: middle;\n",
       "    }\n",
       "\n",
       "    .dataframe tbody tr th {\n",
       "        vertical-align: top;\n",
       "    }\n",
       "\n",
       "    .dataframe thead th {\n",
       "        text-align: right;\n",
       "    }\n",
       "</style>\n",
       "<table border=\"1\" class=\"dataframe\">\n",
       "  <thead>\n",
       "    <tr style=\"text-align: right;\">\n",
       "      <th></th>\n",
       "      <th>sepal_l</th>\n",
       "      <th>sepal_w</th>\n",
       "      <th>petal_l</th>\n",
       "      <th>petal_w</th>\n",
       "      <th>actual</th>\n",
       "      <th>prediction</th>\n",
       "      <th>difference</th>\n",
       "    </tr>\n",
       "  </thead>\n",
       "  <tbody>\n",
       "    <tr>\n",
       "      <th>0</th>\n",
       "      <td>5.6</td>\n",
       "      <td>2.8</td>\n",
       "      <td>4.9</td>\n",
       "      <td>2.0</td>\n",
       "      <td>2.0</td>\n",
       "      <td>2.0</td>\n",
       "      <td>0.0</td>\n",
       "    </tr>\n",
       "    <tr>\n",
       "      <th>1</th>\n",
       "      <td>5.7</td>\n",
       "      <td>2.6</td>\n",
       "      <td>3.5</td>\n",
       "      <td>1.0</td>\n",
       "      <td>1.0</td>\n",
       "      <td>1.0</td>\n",
       "      <td>0.0</td>\n",
       "    </tr>\n",
       "    <tr>\n",
       "      <th>2</th>\n",
       "      <td>5.6</td>\n",
       "      <td>2.7</td>\n",
       "      <td>4.2</td>\n",
       "      <td>1.3</td>\n",
       "      <td>1.0</td>\n",
       "      <td>1.0</td>\n",
       "      <td>0.0</td>\n",
       "    </tr>\n",
       "    <tr>\n",
       "      <th>3</th>\n",
       "      <td>6.1</td>\n",
       "      <td>2.6</td>\n",
       "      <td>5.6</td>\n",
       "      <td>1.4</td>\n",
       "      <td>2.0</td>\n",
       "      <td>2.0</td>\n",
       "      <td>0.0</td>\n",
       "    </tr>\n",
       "    <tr>\n",
       "      <th>4</th>\n",
       "      <td>7.2</td>\n",
       "      <td>3.2</td>\n",
       "      <td>6.0</td>\n",
       "      <td>1.8</td>\n",
       "      <td>2.0</td>\n",
       "      <td>2.0</td>\n",
       "      <td>0.0</td>\n",
       "    </tr>\n",
       "  </tbody>\n",
       "</table>\n",
       "</div>"
      ],
      "text/plain": [
       "   sepal_l  sepal_w  petal_l  petal_w  actual  prediction  difference\n",
       "0      5.6      2.8      4.9      2.0     2.0         2.0         0.0\n",
       "1      5.7      2.6      3.5      1.0     1.0         1.0         0.0\n",
       "2      5.6      2.7      4.2      1.3     1.0         1.0         0.0\n",
       "3      6.1      2.6      5.6      1.4     2.0         2.0         0.0\n",
       "4      7.2      3.2      6.0      1.8     2.0         2.0         0.0"
      ]
     },
     "execution_count": 66,
     "metadata": {
      "tags": []
     },
     "output_type": "execute_result"
    }
   ],
   "source": [
    "compare = pd.DataFrame(list(zip(X_test[:, 0], \n",
    "                                X_test[:, 1], \n",
    "                                X_test[:, 2], \n",
    "                                X_test[:, 3], \n",
    "                                y_test, \n",
    "                                mlp.predict(X_test),\n",
    "                                (y_test - mlp.predict(X_test)))),\n",
    "                           columns = ['sepal_l', \n",
    "                                      'sepal_w',\n",
    "                                      'petal_l', \n",
    "                                      'petal_w', \n",
    "                                      'actual', \n",
    "                                      'prediction',\n",
    "                                      'difference'])\n",
    "\n",
    "compare.head()"
   ]
  },
  {
   "cell_type": "code",
   "execution_count": 67,
   "metadata": {
    "colab": {
     "base_uri": "https://localhost:8080/",
     "height": 52
    },
    "colab_type": "code",
    "id": "_Tm5XDtZucmm",
    "outputId": "a4d6ca62-ba42-4f01-fbb1-5b251fdafb65"
   },
   "outputs": [
    {
     "name": "stdout",
     "output_type": "stream",
     "text": [
      "Length of TEST dataset:  30\n",
      "Number of correct predictions:  29\n"
     ]
    }
   ],
   "source": [
    "print(\"Length of TEST dataset: \", len(X_test))\n",
    "print(\"Number of correct predictions: \", len(compare[compare['difference'] == 0.0]))"
   ]
  },
  {
   "cell_type": "markdown",
   "metadata": {
    "colab_type": "text",
    "id": "IVGLGsGTntgK"
   },
   "source": [
    "## Testing out a few examples"
   ]
  },
  {
   "cell_type": "code",
   "execution_count": 68,
   "metadata": {
    "colab": {
     "base_uri": "https://localhost:8080/",
     "height": 104
    },
    "colab_type": "code",
    "id": "DX9EMHPPntgL",
    "outputId": "60fd473b-c88a-427b-d633-56640ea8b27e"
   },
   "outputs": [
    {
     "name": "stdout",
     "output_type": "stream",
     "text": [
      "[5.8 4.  1.2 0.2]  ->  [0.]\n",
      "[3.2 3.1 3.2 1.2]  ->  [1.]\n",
      "[5.4 2.  2.  2.3]  ->  [1.]\n",
      "[6.4 3.2 4.5 1.5]  ->  [1.]\n",
      "[2.3 4.1 4.6 3.2]  ->  [2.]\n"
     ]
    }
   ],
   "source": [
    "data = np.array(\n",
    "    [\n",
    "        [5.8, 4.0, 1.2, 0.2],\n",
    "        [3.2, 3.1, 3.2, 1.2],\n",
    "        [5.4, 2.0, 2.0, 2.3],\n",
    "        [6.4, 3.2, 4.5, 1.5],\n",
    "        [2.3, 4.1, 4.6, 3.2]\n",
    "    ]\n",
    ")\n",
    "\n",
    "for i in data:\n",
    "    print(i, \" -> \", mlp.predict(i.reshape(1, -1)))"
   ]
  }
 ],
 "metadata": {
  "colab": {
   "name": "1.2_Neural.Networks_Introduction.ipynb",
   "provenance": [],
   "version": "0.3.2"
  },
  "kernelspec": {
   "display_name": "Python 3",
   "language": "python",
   "name": "python3"
  },
  "language_info": {
   "codemirror_mode": {
    "name": "ipython",
    "version": 3
   },
   "file_extension": ".py",
   "mimetype": "text/x-python",
   "name": "python",
   "nbconvert_exporter": "python",
   "pygments_lexer": "ipython3",
   "version": "3.6.7"
  },
  "toc": {
   "base_numbering": 1,
   "nav_menu": {},
   "number_sections": true,
   "sideBar": true,
   "skip_h1_title": false,
   "title_cell": "Table of Contents",
   "title_sidebar": "Contents",
   "toc_cell": false,
   "toc_position": {},
   "toc_section_display": true,
   "toc_window_display": false
  },
  "varInspector": {
   "cols": {
    "lenName": 16,
    "lenType": 16,
    "lenVar": 40
   },
   "kernels_config": {
    "python": {
     "delete_cmd_postfix": "",
     "delete_cmd_prefix": "del ",
     "library": "var_list.py",
     "varRefreshCmd": "print(var_dic_list())"
    },
    "r": {
     "delete_cmd_postfix": ") ",
     "delete_cmd_prefix": "rm(",
     "library": "var_list.r",
     "varRefreshCmd": "cat(var_dic_list()) "
    }
   },
   "types_to_exclude": [
    "module",
    "function",
    "builtin_function_or_method",
    "instance",
    "_Feature"
   ],
   "window_display": false
  }
 },
 "nbformat": 4,
 "nbformat_minor": 1
}
